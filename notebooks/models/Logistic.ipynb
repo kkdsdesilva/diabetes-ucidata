{
 "cells": [
  {
   "cell_type": "markdown",
   "metadata": {},
   "source": [
    "# Logistic Regression"
   ]
  },
  {
   "cell_type": "code",
   "execution_count": 1,
   "metadata": {},
   "outputs": [],
   "source": [
    "import sys\n",
    "import os\n",
    "\n",
    "cur_dir = os.getcwd()\n",
    "root_dir = os.path.dirname(cur_dir+\"/../../\")\n",
    "sys.path.append(root_dir)"
   ]
  },
  {
   "cell_type": "code",
   "execution_count": 2,
   "metadata": {},
   "outputs": [],
   "source": [
    "# import the necessary packages\n",
    "import pandas as pd\n",
    "from src.features.feature_labeling import label_encode, one_hot_encode\n",
    "from src.data.data_scaling import standardize_data, normalize_data\n",
    "from src.data.split_data import split_data\n",
    "from src.models.Logistic import LogReg"
   ]
  },
  {
   "cell_type": "code",
   "execution_count": 3,
   "metadata": {},
   "outputs": [],
   "source": [
    "# load the dataset\n",
    "df_wo = pd.read_csv(root_dir+\"/data/preprocessed/diabetes_without_weight_cleaned.csv\")\n",
    "df_w = pd.read_csv(root_dir+\"/data/preprocessed/diabetes_with_weight_cleaned.csv\")"
   ]
  },
  {
   "cell_type": "code",
   "execution_count": 4,
   "metadata": {},
   "outputs": [],
   "source": [
    "# standardize the data\n",
    "df_wo_std = standardize_data(df_wo)\n",
    "df_w_std = standardize_data(df_w)\n",
    "\n",
    "# normalize the data\n",
    "df_wo_norm = normalize_data(df_wo)\n",
    "df_w_norm = normalize_data(df_w)"
   ]
  },
  {
   "cell_type": "code",
   "execution_count": 5,
   "metadata": {},
   "outputs": [],
   "source": [
    "# label encode readmitted column\n",
    "df_wo_std = label_encode(df_wo_std, \"readmitted\", {'NO': 0, '>30': 1, '<30': 1})\n",
    "df_wo_norm = label_encode(df_wo_norm, \"readmitted\", {'NO': 0, '>30': 1, '<30': 1})\n",
    "\n",
    "# one hot encode the categorical columns\n",
    "df_wo_std = one_hot_encode(df_wo_std)\n",
    "df_wo_norm = one_hot_encode(df_wo_norm)"
   ]
  },
  {
   "cell_type": "code",
   "execution_count": 6,
   "metadata": {},
   "outputs": [],
   "source": [
    "# split the data into train and test\n",
    "X_train_wo, X_test_wo, y_train_wo, y_test_wo = split_data(df_wo_std, \"readmitted\")"
   ]
  },
  {
   "cell_type": "code",
   "execution_count": 7,
   "metadata": {},
   "outputs": [
    {
     "name": "stdout",
     "output_type": "stream",
     "text": [
      "Train accuracy:  0.6496294008647313\n",
      "Test accuracy:  0.6249590566655748\n"
     ]
    }
   ],
   "source": [
    "# train and predict using LogReg\n",
    "logreg, y_train_pred, y_test_pred = LogReg(X_train_wo, X_test_wo, y_train_wo, y_test_wo, max_iter=2000)"
   ]
  }
 ],
 "metadata": {
  "kernelspec": {
   "display_name": "conda-diabetes",
   "language": "python",
   "name": "python3"
  },
  "language_info": {
   "codemirror_mode": {
    "name": "ipython",
    "version": 3
   },
   "file_extension": ".py",
   "mimetype": "text/x-python",
   "name": "python",
   "nbconvert_exporter": "python",
   "pygments_lexer": "ipython3",
   "version": "3.11.3"
  }
 },
 "nbformat": 4,
 "nbformat_minor": 2
}
