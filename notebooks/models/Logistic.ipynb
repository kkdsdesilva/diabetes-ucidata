{
 "cells": [
  {
   "cell_type": "markdown",
   "metadata": {},
   "source": [
    "# Logistic Regression"
   ]
  },
  {
   "cell_type": "code",
   "execution_count": 1,
   "metadata": {},
   "outputs": [],
   "source": [
    "import sys\n",
    "import os\n",
    "\n",
    "cur_dir = os.getcwd()\n",
    "root_dir = os.path.dirname(cur_dir+\"/../../\")\n",
    "sys.path.append(root_dir)"
   ]
  },
  {
   "cell_type": "code",
   "execution_count": 2,
   "metadata": {},
   "outputs": [],
   "source": [
    "# import the necessary packages\n",
    "import pandas as pd\n",
    "from src.data.load_data import load_data\n",
    "from src.features.feature_labeling import label_encode, one_hot_encode\n",
    "from src.data.data_scaling import standardize_data, normalize_data\n",
    "from src.data.split_data import split_data\n",
    "from src.models.Logistic import train_Logistic\n",
    "from src.models.evaluate import evaluate_model"
   ]
  },
  {
   "cell_type": "code",
   "execution_count": 3,
   "metadata": {},
   "outputs": [],
   "source": [
    "# load the dataset\n",
    "df_wo = load_data()\n",
    "df_w = load_data(weight=True)"
   ]
  },
  {
   "cell_type": "code",
   "execution_count": 4,
   "metadata": {},
   "outputs": [],
   "source": [
    "# label encode readmitted column\n",
    "df_wo = label_encode(df_wo, \"readmitted\", {'NO': 0, '>30': 1, '<30': 1})\n",
    "\n",
    "# one hot encode the categorical columns\n",
    "df_wo = one_hot_encode(df_wo)"
   ]
  },
  {
   "cell_type": "code",
   "execution_count": 5,
   "metadata": {},
   "outputs": [],
   "source": [
    "# split the data into train and test\n",
    "X_train_wo, X_test_wo, y_train_wo, y_test_wo = split_data(df_wo, \"readmitted\")"
   ]
  },
  {
   "cell_type": "code",
   "execution_count": 6,
   "metadata": {},
   "outputs": [],
   "source": [
    "# standardize the data\n",
    "X_train_wo, X_test_wo = standardize_data(X_train_wo), standardize_data(X_test_wo)"
   ]
  },
  {
   "cell_type": "code",
   "execution_count": 7,
   "metadata": {},
   "outputs": [],
   "source": [
    "# train Logistic Regression model\n",
    "logreg= train_Logistic(X_train_wo, y_train_wo, max_iter=2000)"
   ]
  },
  {
   "cell_type": "code",
   "execution_count": 8,
   "metadata": {},
   "outputs": [
    {
     "name": "stdout",
     "output_type": "stream",
     "text": [
      "Train accuracy:  0.6499943848615869\n",
      "Test accuracy:  0.6251555846708156\n"
     ]
    },
    {
     "data": {
      "text/plain": [
       "(0.6499943848615869, 0.6251555846708156)"
      ]
     },
     "execution_count": 8,
     "metadata": {},
     "output_type": "execute_result"
    }
   ],
   "source": [
    "evaluate_model(logreg, X_train_wo, X_test_wo, y_train_wo, y_test_wo)"
   ]
  },
  {
   "cell_type": "code",
   "execution_count": 9,
   "metadata": {},
   "outputs": [
    {
     "name": "stderr",
     "output_type": "stream",
     "text": [
      "/Users/dumindu/anaconda3/envs/conda-diabetes/lib/python3.11/site-packages/_distutils_hack/__init__.py:33: UserWarning: Setuptools is replacing distutils.\n",
      "  warnings.warn(\"Setuptools is replacing distutils.\")\n"
     ]
    },
    {
     "name": "stdout",
     "output_type": "stream",
     "text": [
      "Train accuracy:  0.6499943848615869\n",
      "Test accuracy:  0.6251555846708156\n"
     ]
    }
   ],
   "source": [
    "import mlflow\n",
    "import mlflow.sklearn\n",
    "\n",
    "\n",
    "# Start a new MLflow run\n",
    "with mlflow.start_run():\n",
    "    # Train a Logistic Regression model\n",
    "    #logreg.fit(X_train, y_train)\n",
    "\n",
    "    # Log model\n",
    "    mlflow.sklearn.log_model(logreg, \"Logistic Regression Model\")\n",
    "\n",
    "    # Log params\n",
    "    mlflow.log_param(\"C\", logreg.get_params()[\"C\"])\n",
    "    mlflow.log_param(\"penalty\", logreg.get_params()[\"penalty\"])\n",
    "\n",
    "    # Evaluate the model and log metrics\n",
    "    score = evaluate_model(logreg, X_train_wo, X_test_wo, y_train_wo, y_test_wo)\n",
    "    mlflow.log_metric(\"accuracy\", score[1])"
   ]
  },
  {
   "cell_type": "code",
   "execution_count": 2,
   "metadata": {},
   "outputs": [
    {
     "name": "stderr",
     "output_type": "stream",
     "text": [
      "2024/02/08 00:07:00 INFO mlflow.tracking.fluent: Experiment with name 'decision_tree_experiment' does not exist. Creating a new experiment.\n",
      "/Users/dumindu/anaconda3/envs/conda-diabetes/lib/python3.11/site-packages/_distutils_hack/__init__.py:33: UserWarning: Setuptools is replacing distutils.\n",
      "  warnings.warn(\"Setuptools is replacing distutils.\")\n"
     ]
    },
    {
     "name": "stdout",
     "output_type": "stream",
     "text": [
      "Train accuracy:  0.6564939075748217\n",
      "Test accuracy:  0.6277104487389453\n"
     ]
    }
   ],
   "source": [
    "%run '../../scripts/train_DecisionTree.py'"
   ]
  },
  {
   "cell_type": "code",
   "execution_count": 3,
   "metadata": {},
   "outputs": [
    {
     "name": "stderr",
     "output_type": "stream",
     "text": [
      "2024/02/08 00:10:23 INFO mlflow.tracking.fluent: Experiment with name 'logistic_regression_experiment' does not exist. Creating a new experiment.\n"
     ]
    },
    {
     "name": "stdout",
     "output_type": "stream",
     "text": [
      "Train accuracy:  0.6499943848615869\n",
      "Test accuracy:  0.6251555846708156\n"
     ]
    }
   ],
   "source": [
    "%run '../../scripts/train_Logistic.py'"
   ]
  }
 ],
 "metadata": {
  "kernelspec": {
   "display_name": "conda-diabetes",
   "language": "python",
   "name": "python3"
  },
  "language_info": {
   "codemirror_mode": {
    "name": "ipython",
    "version": 3
   },
   "file_extension": ".py",
   "mimetype": "text/x-python",
   "name": "python",
   "nbconvert_exporter": "python",
   "pygments_lexer": "ipython3",
   "version": "3.11.3"
  }
 },
 "nbformat": 4,
 "nbformat_minor": 2
}
