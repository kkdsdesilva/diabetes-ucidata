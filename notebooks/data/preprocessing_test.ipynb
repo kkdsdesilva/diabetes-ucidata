{
 "cells": [
  {
   "cell_type": "code",
   "execution_count": 50,
   "metadata": {},
   "outputs": [
    {
     "name": "stderr",
     "output_type": "stream",
     "text": [
      "/Users/dumindu/anaconda3/envs/conda-diabetes/lib/python3.11/site-packages/ucimlrepo/fetch.py:97: DtypeWarning: Columns (10) have mixed types. Specify dtype option on import or set low_memory=False.\n",
      "  df = pd.read_csv(data_url)\n"
     ]
    },
    {
     "name": "stdout",
     "output_type": "stream",
     "text": [
      "<class 'pandas.core.frame.DataFrame'>\n",
      "RangeIndex: 101766 entries, 0 to 101765\n",
      "Data columns (total 48 columns):\n",
      " #   Column                    Non-Null Count   Dtype \n",
      "---  ------                    --------------   ----- \n",
      " 0   race                      99493 non-null   object\n",
      " 1   gender                    101766 non-null  object\n",
      " 2   age                       101766 non-null  object\n",
      " 3   weight                    3197 non-null    object\n",
      " 4   admission_type_id         101766 non-null  int64 \n",
      " 5   discharge_disposition_id  101766 non-null  int64 \n",
      " 6   admission_source_id       101766 non-null  int64 \n",
      " 7   time_in_hospital          101766 non-null  int64 \n",
      " 8   payer_code                61510 non-null   object\n",
      " 9   medical_specialty         51817 non-null   object\n",
      " 10  num_lab_procedures        101766 non-null  int64 \n",
      " 11  num_procedures            101766 non-null  int64 \n",
      " 12  num_medications           101766 non-null  int64 \n",
      " 13  number_outpatient         101766 non-null  int64 \n",
      " 14  number_emergency          101766 non-null  int64 \n",
      " 15  number_inpatient          101766 non-null  int64 \n",
      " 16  diag_1                    101745 non-null  object\n",
      " 17  diag_2                    101408 non-null  object\n",
      " 18  diag_3                    100343 non-null  object\n",
      " 19  number_diagnoses          101766 non-null  int64 \n",
      " 20  max_glu_serum             101766 non-null  object\n",
      " 21  A1Cresult                 101766 non-null  object\n",
      " 22  metformin                 101766 non-null  object\n",
      " 23  repaglinide               101766 non-null  object\n",
      " 24  nateglinide               101766 non-null  object\n",
      " 25  chlorpropamide            101766 non-null  object\n",
      " 26  glimepiride               101766 non-null  object\n",
      " 27  acetohexamide             101766 non-null  object\n",
      " 28  glipizide                 101766 non-null  object\n",
      " 29  glyburide                 101766 non-null  object\n",
      " 30  tolbutamide               101766 non-null  object\n",
      " 31  pioglitazone              101766 non-null  object\n",
      " 32  rosiglitazone             101766 non-null  object\n",
      " 33  acarbose                  101766 non-null  object\n",
      " 34  miglitol                  101766 non-null  object\n",
      " 35  troglitazone              101766 non-null  object\n",
      " 36  tolazamide                101766 non-null  object\n",
      " 37  examide                   101766 non-null  object\n",
      " 38  citoglipton               101766 non-null  object\n",
      " 39  insulin                   101766 non-null  object\n",
      " 40  glyburide-metformin       101766 non-null  object\n",
      " 41  glipizide-metformin       101766 non-null  object\n",
      " 42  glimepiride-pioglitazone  101766 non-null  object\n",
      " 43  metformin-rosiglitazone   101766 non-null  object\n",
      " 44  metformin-pioglitazone    101766 non-null  object\n",
      " 45  change                    101766 non-null  object\n",
      " 46  diabetesMed               101766 non-null  object\n",
      " 47  readmitted                101766 non-null  object\n",
      "dtypes: int64(11), object(37)\n",
      "memory usage: 37.3+ MB\n",
      "None\n"
     ]
    }
   ],
   "source": [
    "import sys\n",
    "sys.path.append('../../')\n",
    "\n",
    "%run '../../src/data/data_collection.py'"
   ]
  },
  {
   "cell_type": "code",
   "execution_count": 37,
   "metadata": {},
   "outputs": [
    {
     "data": {
      "text/plain": [
       "weight                      98569\n",
       "medical_specialty           49949\n",
       "payer_code                  40256\n",
       "race                         2273\n",
       "diag_3                       1423\n",
       "diag_2                        358\n",
       "diag_1                         21\n",
       "tolazamide                      0\n",
       "glyburide                       0\n",
       "tolbutamide                     0\n",
       "pioglitazone                    0\n",
       "rosiglitazone                   0\n",
       "acarbose                        0\n",
       "miglitol                        0\n",
       "troglitazone                    0\n",
       "citoglipton                     0\n",
       "examide                         0\n",
       "acetohexamide                   0\n",
       "insulin                         0\n",
       "glyburide-metformin             0\n",
       "glipizide-metformin             0\n",
       "glimepiride-pioglitazone        0\n",
       "metformin-rosiglitazone         0\n",
       "metformin-pioglitazone          0\n",
       "change                          0\n",
       "diabetesMed                     0\n",
       "glipizide                       0\n",
       "nateglinide                     0\n",
       "glimepiride                     0\n",
       "chlorpropamide                  0\n",
       "age                             0\n",
       "admission_type_id               0\n",
       "discharge_disposition_id        0\n",
       "admission_source_id             0\n",
       "time_in_hospital                0\n",
       "num_lab_procedures              0\n",
       "num_procedures                  0\n",
       "num_medications                 0\n",
       "number_outpatient               0\n",
       "number_emergency                0\n",
       "number_inpatient                0\n",
       "number_diagnoses                0\n",
       "max_glu_serum                   0\n",
       "A1Cresult                       0\n",
       "metformin                       0\n",
       "repaglinide                     0\n",
       "gender                          0\n",
       "readmitted                      0\n",
       "dtype: int64"
      ]
     },
     "execution_count": 37,
     "metadata": {},
     "output_type": "execute_result"
    }
   ],
   "source": [
    "data.isna().sum().sort_values(ascending=False)"
   ]
  },
  {
   "cell_type": "code",
   "execution_count": 38,
   "metadata": {},
   "outputs": [
    {
     "data": {
      "text/plain": [
       "admission_type_id           int64\n",
       "discharge_disposition_id    int64\n",
       "admission_source_id         int64\n",
       "time_in_hospital            int64\n",
       "num_lab_procedures          int64\n",
       "num_procedures              int64\n",
       "num_medications             int64\n",
       "number_outpatient           int64\n",
       "number_emergency            int64\n",
       "number_inpatient            int64\n",
       "number_diagnoses            int64\n",
       "dtype: object"
      ]
     },
     "execution_count": 38,
     "metadata": {},
     "output_type": "execute_result"
    }
   ],
   "source": [
    "dtypes = data.dtypes\n",
    "\n",
    "dtypes[dtypes == 'int64']"
   ]
  },
  {
   "cell_type": "code",
   "execution_count": 39,
   "metadata": {},
   "outputs": [
    {
     "data": {
      "text/plain": [
       "Index(['race', 'gender', 'age', 'weight', 'admission_type_id',\n",
       "       'discharge_disposition_id', 'admission_source_id', 'time_in_hospital',\n",
       "       'payer_code', 'medical_specialty', 'num_lab_procedures',\n",
       "       'num_procedures', 'num_medications', 'number_outpatient',\n",
       "       'number_emergency', 'number_inpatient', 'diag_1', 'diag_2', 'diag_3',\n",
       "       'number_diagnoses', 'max_glu_serum', 'A1Cresult', 'metformin',\n",
       "       'repaglinide', 'nateglinide', 'chlorpropamide', 'glimepiride',\n",
       "       'acetohexamide', 'glipizide', 'glyburide', 'tolbutamide',\n",
       "       'pioglitazone', 'rosiglitazone', 'acarbose', 'miglitol', 'troglitazone',\n",
       "       'tolazamide', 'examide', 'citoglipton', 'insulin',\n",
       "       'glyburide-metformin', 'glipizide-metformin',\n",
       "       'glimepiride-pioglitazone', 'metformin-rosiglitazone',\n",
       "       'metformin-pioglitazone', 'change', 'diabetesMed', 'readmitted'],\n",
       "      dtype='object')"
      ]
     },
     "execution_count": 39,
     "metadata": {},
     "output_type": "execute_result"
    }
   ],
   "source": [
    "data.columns"
   ]
  },
  {
   "cell_type": "code",
   "execution_count": 41,
   "metadata": {},
   "outputs": [
    {
     "data": {
      "text/plain": [
       "<Axes: >"
      ]
     },
     "execution_count": 41,
     "metadata": {},
     "output_type": "execute_result"
    },
    {
     "data": {
      "image/png": "[encoded data removed]",
      "text/plain": [
       "<Figure size 640x480 with 1 Axes>"
      ]
     },
     "metadata": {},
     "output_type": "display_data"
    }
   ],
   "source": [
    "import matplotlib.pyplot as plt\n",
    "data['number_outpatient'].hist(bins=30)"
   ]
  },
  {
   "cell_type": "code",
   "execution_count": 46,
   "metadata": {},
   "outputs": [
    {
     "data": {
      "text/plain": [
       "(array([1.6320e+03, 6.1330e+03, 7.8370e+03, 1.6054e+04, 1.7797e+04,\n",
       "        1.1222e+04, 1.3520e+04, 9.7890e+03, 4.5350e+03, 4.9280e+03,\n",
       "        3.0820e+03, 1.3350e+03, 1.3450e+03, 8.0800e+02, 3.8800e+02,\n",
       "        4.0100e+02, 2.8000e+02, 1.3400e+02, 1.5900e+02, 1.2700e+02,\n",
       "        6.9000e+01, 7.1000e+01, 5.2000e+01, 2.2000e+01, 2.4000e+01,\n",
       "        1.4000e+01, 3.0000e+00, 3.0000e+00, 0.0000e+00, 2.0000e+00]),\n",
       " array([ 1.        ,  3.66666667,  6.33333333,  9.        , 11.66666667,\n",
       "        14.33333333, 17.        , 19.66666667, 22.33333333, 25.        ,\n",
       "        27.66666667, 30.33333333, 33.        , 35.66666667, 38.33333333,\n",
       "        41.        , 43.66666667, 46.33333333, 49.        , 51.66666667,\n",
       "        54.33333333, 57.        , 59.66666667, 62.33333333, 65.        ,\n",
       "        67.66666667, 70.33333333, 73.        , 75.66666667, 78.33333333,\n",
       "        81.        ]),\n",
       " <BarContainer object of 30 artists>)"
      ]
     },
     "execution_count": 46,
     "metadata": {},
     "output_type": "execute_result"
    },
    {
     "data": {
      "image/png": "[encoded data removed]",
      "text/plain": [
       "<Figure size 640x480 with 1 Axes>"
      ]
     },
     "metadata": {},
     "output_type": "display_data"
    }
   ],
   "source": [
    "plt.hist(data['num_medications'], bins=30)"
   ]
  },
  {
   "cell_type": "code",
   "execution_count": 56,
   "metadata": {},
   "outputs": [
    {
     "name": "stderr",
     "output_type": "stream",
     "text": [
      "/Users/dumindu/anaconda3/envs/conda-diabetes/lib/python3.11/site-packages/ucimlrepo/fetch.py:97: DtypeWarning: Columns (10) have mixed types. Specify dtype option on import or set low_memory=False.\n",
      "  df = pd.read_csv(data_url)\n"
     ]
    }
   ],
   "source": [
    "%run '../../src/data/data_preprocessing.py'"
   ]
  },
  {
   "cell_type": "code",
   "execution_count": 57,
   "metadata": {},
   "outputs": [
    {
     "name": "stdout",
     "output_type": "stream",
     "text": [
      "float64\n"
     ]
    }
   ],
   "source": [
    "print(data.iloc[:, 10].dtypes)"
   ]
  },
  {
   "cell_type": "code",
   "execution_count": 55,
   "metadata": {},
   "outputs": [
    {
     "data": {
      "text/plain": [
       "0         41.0\n",
       "1         59.0\n",
       "2         11.0\n",
       "3         44.0\n",
       "4         51.0\n",
       "          ... \n",
       "101761    51.0\n",
       "101762    33.0\n",
       "101763    53.0\n",
       "101764    45.0\n",
       "101765    13.0\n",
       "Name: num_lab_procedures, Length: 101766, dtype: float64"
      ]
     },
     "execution_count": 55,
     "metadata": {},
     "output_type": "execute_result"
    }
   ],
   "source": [
    "data.iloc[:, 10]"
   ]
  },
  {
   "cell_type": "code",
   "execution_count": 27,
   "metadata": {},
   "outputs": [
    {
     "data": {
      "text/plain": [
       "Index(['race', 'gender', 'payer_code', 'medical_specialty', 'diag_1', 'diag_2',\n",
       "       'diag_3', 'max_glu_serum', 'A1Cresult', 'metformin', 'repaglinide',\n",
       "       'nateglinide', 'chlorpropamide', 'glimepiride', 'acetohexamide',\n",
       "       'glipizide', 'glyburide', 'tolbutamide', 'pioglitazone',\n",
       "       'rosiglitazone', 'acarbose', 'miglitol', 'troglitazone', 'tolazamide',\n",
       "       'examide', 'citoglipton', 'insulin', 'glyburide-metformin',\n",
       "       'glipizide-metformin', 'glimepiride-pioglitazone',\n",
       "       'metformin-rosiglitazone', 'metformin-pioglitazone', 'change',\n",
       "       'diabetesMed', 'readmitted'],\n",
       "      dtype='object')"
      ]
     },
     "execution_count": 27,
     "metadata": {},
     "output_type": "execute_result"
    }
   ],
   "source": [
    "data.select_dtypes(include=['object']).columns"
   ]
  },
  {
   "cell_type": "code",
   "execution_count": 47,
   "metadata": {},
   "outputs": [
    {
     "data": {
      "text/plain": [
       "Index(['A1Cresult', 'acarbose', 'acetohexamide', 'admission_source_id',\n",
       "       'admission_type_id', 'age', 'change', 'chlorpropamide', 'citoglipton',\n",
       "       'diabetesMed', 'diag_1', 'diag_2', 'diag_3', 'discharge_disposition_id',\n",
       "       'examide', 'gender', 'glimepiride', 'glimepiride-pioglitazone',\n",
       "       'glipizide', 'glipizide-metformin', 'glyburide', 'glyburide-metformin',\n",
       "       'insulin', 'max_glu_serum', 'medical_specialty', 'metformin',\n",
       "       'metformin-pioglitazone', 'metformin-rosiglitazone', 'miglitol',\n",
       "       'nateglinide', 'payer_code', 'pioglitazone', 'race', 'readmitted',\n",
       "       'repaglinide', 'rosiglitazone', 'tolazamide', 'tolbutamide',\n",
       "       'troglitazone', 'weight'],\n",
       "      dtype='object')"
      ]
     },
     "execution_count": 47,
     "metadata": {},
     "output_type": "execute_result"
    }
   ],
   "source": [
    "numeric_cols = ['time_in_hospital', 'num_lab_procedures', 'num_procedures', 'num_medications', 'number_outpatient', 'number_emergency', 'number_inpatient', 'number_diagnoses']\n",
    "data.columns.difference(numeric_cols)"
   ]
  },
  {
   "cell_type": "code",
   "execution_count": 49,
   "metadata": {},
   "outputs": [
    {
     "data": {
      "text/html": [
       "<div>\n",
       "<style scoped>\n",
       "    .dataframe tbody tr th:only-of-type {\n",
       "        vertical-align: middle;\n",
       "    }\n",
       "\n",
       "    .dataframe tbody tr th {\n",
       "        vertical-align: top;\n",
       "    }\n",
       "\n",
       "    .dataframe thead th {\n",
       "        text-align: right;\n",
       "    }\n",
       "</style>\n",
       "<table border=\"1\" class=\"dataframe\">\n",
       "  <thead>\n",
       "    <tr style=\"text-align: right;\">\n",
       "      <th></th>\n",
       "      <th>time_in_hospital</th>\n",
       "      <th>num_lab_procedures</th>\n",
       "      <th>num_procedures</th>\n",
       "      <th>num_medications</th>\n",
       "      <th>number_outpatient</th>\n",
       "      <th>number_emergency</th>\n",
       "      <th>number_inpatient</th>\n",
       "      <th>number_diagnoses</th>\n",
       "    </tr>\n",
       "  </thead>\n",
       "  <tbody>\n",
       "    <tr>\n",
       "      <th>0</th>\n",
       "      <td>1.0</td>\n",
       "      <td>41.0</td>\n",
       "      <td>0.0</td>\n",
       "      <td>1.0</td>\n",
       "      <td>0.0</td>\n",
       "      <td>0.0</td>\n",
       "      <td>0.0</td>\n",
       "      <td>1.0</td>\n",
       "    </tr>\n",
       "    <tr>\n",
       "      <th>1</th>\n",
       "      <td>3.0</td>\n",
       "      <td>59.0</td>\n",
       "      <td>0.0</td>\n",
       "      <td>18.0</td>\n",
       "      <td>0.0</td>\n",
       "      <td>0.0</td>\n",
       "      <td>0.0</td>\n",
       "      <td>9.0</td>\n",
       "    </tr>\n",
       "    <tr>\n",
       "      <th>2</th>\n",
       "      <td>2.0</td>\n",
       "      <td>11.0</td>\n",
       "      <td>5.0</td>\n",
       "      <td>13.0</td>\n",
       "      <td>2.0</td>\n",
       "      <td>0.0</td>\n",
       "      <td>1.0</td>\n",
       "      <td>6.0</td>\n",
       "    </tr>\n",
       "    <tr>\n",
       "      <th>3</th>\n",
       "      <td>2.0</td>\n",
       "      <td>44.0</td>\n",
       "      <td>1.0</td>\n",
       "      <td>16.0</td>\n",
       "      <td>0.0</td>\n",
       "      <td>0.0</td>\n",
       "      <td>0.0</td>\n",
       "      <td>7.0</td>\n",
       "    </tr>\n",
       "    <tr>\n",
       "      <th>4</th>\n",
       "      <td>1.0</td>\n",
       "      <td>51.0</td>\n",
       "      <td>0.0</td>\n",
       "      <td>8.0</td>\n",
       "      <td>0.0</td>\n",
       "      <td>0.0</td>\n",
       "      <td>0.0</td>\n",
       "      <td>5.0</td>\n",
       "    </tr>\n",
       "    <tr>\n",
       "      <th>...</th>\n",
       "      <td>...</td>\n",
       "      <td>...</td>\n",
       "      <td>...</td>\n",
       "      <td>...</td>\n",
       "      <td>...</td>\n",
       "      <td>...</td>\n",
       "      <td>...</td>\n",
       "      <td>...</td>\n",
       "    </tr>\n",
       "    <tr>\n",
       "      <th>101761</th>\n",
       "      <td>3.0</td>\n",
       "      <td>51.0</td>\n",
       "      <td>0.0</td>\n",
       "      <td>16.0</td>\n",
       "      <td>0.0</td>\n",
       "      <td>0.0</td>\n",
       "      <td>0.0</td>\n",
       "      <td>9.0</td>\n",
       "    </tr>\n",
       "    <tr>\n",
       "      <th>101762</th>\n",
       "      <td>5.0</td>\n",
       "      <td>33.0</td>\n",
       "      <td>3.0</td>\n",
       "      <td>18.0</td>\n",
       "      <td>0.0</td>\n",
       "      <td>0.0</td>\n",
       "      <td>1.0</td>\n",
       "      <td>9.0</td>\n",
       "    </tr>\n",
       "    <tr>\n",
       "      <th>101763</th>\n",
       "      <td>1.0</td>\n",
       "      <td>53.0</td>\n",
       "      <td>0.0</td>\n",
       "      <td>9.0</td>\n",
       "      <td>1.0</td>\n",
       "      <td>0.0</td>\n",
       "      <td>0.0</td>\n",
       "      <td>13.0</td>\n",
       "    </tr>\n",
       "    <tr>\n",
       "      <th>101764</th>\n",
       "      <td>10.0</td>\n",
       "      <td>45.0</td>\n",
       "      <td>2.0</td>\n",
       "      <td>21.0</td>\n",
       "      <td>0.0</td>\n",
       "      <td>0.0</td>\n",
       "      <td>1.0</td>\n",
       "      <td>9.0</td>\n",
       "    </tr>\n",
       "    <tr>\n",
       "      <th>101765</th>\n",
       "      <td>6.0</td>\n",
       "      <td>13.0</td>\n",
       "      <td>3.0</td>\n",
       "      <td>3.0</td>\n",
       "      <td>0.0</td>\n",
       "      <td>0.0</td>\n",
       "      <td>0.0</td>\n",
       "      <td>9.0</td>\n",
       "    </tr>\n",
       "  </tbody>\n",
       "</table>\n",
       "<p>101766 rows × 8 columns</p>\n",
       "</div>"
      ],
      "text/plain": [
       "        time_in_hospital  num_lab_procedures  num_procedures  num_medications  \\\n",
       "0                    1.0                41.0             0.0              1.0   \n",
       "1                    3.0                59.0             0.0             18.0   \n",
       "2                    2.0                11.0             5.0             13.0   \n",
       "3                    2.0                44.0             1.0             16.0   \n",
       "4                    1.0                51.0             0.0              8.0   \n",
       "...                  ...                 ...             ...              ...   \n",
       "101761               3.0                51.0             0.0             16.0   \n",
       "101762               5.0                33.0             3.0             18.0   \n",
       "101763               1.0                53.0             0.0              9.0   \n",
       "101764              10.0                45.0             2.0             21.0   \n",
       "101765               6.0                13.0             3.0              3.0   \n",
       "\n",
       "        number_outpatient  number_emergency  number_inpatient  \\\n",
       "0                     0.0               0.0               0.0   \n",
       "1                     0.0               0.0               0.0   \n",
       "2                     2.0               0.0               1.0   \n",
       "3                     0.0               0.0               0.0   \n",
       "4                     0.0               0.0               0.0   \n",
       "...                   ...               ...               ...   \n",
       "101761                0.0               0.0               0.0   \n",
       "101762                0.0               0.0               1.0   \n",
       "101763                1.0               0.0               0.0   \n",
       "101764                0.0               0.0               1.0   \n",
       "101765                0.0               0.0               0.0   \n",
       "\n",
       "        number_diagnoses  \n",
       "0                    1.0  \n",
       "1                    9.0  \n",
       "2                    6.0  \n",
       "3                    7.0  \n",
       "4                    5.0  \n",
       "...                  ...  \n",
       "101761               9.0  \n",
       "101762               9.0  \n",
       "101763              13.0  \n",
       "101764               9.0  \n",
       "101765               9.0  \n",
       "\n",
       "[101766 rows x 8 columns]"
      ]
     },
     "execution_count": 49,
     "metadata": {},
     "output_type": "execute_result"
    }
   ],
   "source": [
    "data[numeric_cols].astype('float')"
   ]
  },
  {
   "cell_type": "code",
   "execution_count": 26,
   "metadata": {},
   "outputs": [
    {
     "data": {
      "text/plain": [
       "InternalMedicine                    14635\n",
       "Emergency/Trauma                     7565\n",
       "Family/GeneralPractice               7440\n",
       "Cardiology                           5352\n",
       "Surgery-General                      3099\n",
       "                                    ...  \n",
       "Perinatology                            1\n",
       "Neurophysiology                         1\n",
       "Psychiatry-Addictive                    1\n",
       "Pediatrics-InfectiousDiseases           1\n",
       "Surgery-PlasticwithinHeadandNeck        1\n",
       "Name: medical_specialty, Length: 72, dtype: int64"
      ]
     },
     "execution_count": 26,
     "metadata": {},
     "output_type": "execute_result"
    }
   ],
   "source": [
    "data['medical_specialty'].value_counts().sort_values(ascending=False)"
   ]
  },
  {
   "cell_type": "code",
   "execution_count": 25,
   "metadata": {},
   "outputs": [
    {
     "data": {
      "text/plain": [
       "250    11555\n",
       "401     8289\n",
       "276     5175\n",
       "428     4577\n",
       "427     3955\n",
       "       ...  \n",
       "838        1\n",
       "391        1\n",
       "236        1\n",
       "877        1\n",
       "971        1\n",
       "Name: diag_3, Length: 789, dtype: int64"
      ]
     },
     "execution_count": 25,
     "metadata": {},
     "output_type": "execute_result"
    }
   ],
   "source": [
    "data['diag_3'].value_counts().sort_values(ascending=False)"
   ]
  },
  {
   "cell_type": "code",
   "execution_count": 21,
   "metadata": {},
   "outputs": [
    {
     "data": {
      "text/plain": [
       "Caucasian          76099\n",
       "AfricanAmerican    19210\n",
       "Hispanic            2037\n",
       "Other               1506\n",
       "Asian                641\n",
       "Name: race, dtype: int64"
      ]
     },
     "execution_count": 21,
     "metadata": {},
     "output_type": "execute_result"
    }
   ],
   "source": [
    "data['race'].value_counts()"
   ]
  },
  {
   "cell_type": "code",
   "execution_count": 10,
   "metadata": {},
   "outputs": [
    {
     "data": {
      "text/plain": [
       "[70-80)     26068\n",
       "[60-70)     22483\n",
       "[50-60)     17256\n",
       "[80-90)     17197\n",
       "[40-50)      9685\n",
       "[30-40)      3775\n",
       "[90-100)     2793\n",
       "[20-30)      1657\n",
       "[10-20)       691\n",
       "[0-10)        161\n",
       "Name: age, dtype: int64"
      ]
     },
     "execution_count": 10,
     "metadata": {},
     "output_type": "execute_result"
    }
   ],
   "source": [
    "data['age'].value_counts()"
   ]
  },
  {
   "cell_type": "code",
   "execution_count": 11,
   "metadata": {},
   "outputs": [
    {
     "data": {
      "text/plain": [
       "[75-100)     1336\n",
       "[50-75)       897\n",
       "[100-125)     625\n",
       "[125-150)     145\n",
       "[25-50)        97\n",
       "[0-25)         48\n",
       "[150-175)      35\n",
       "[175-200)      11\n",
       ">200            3\n",
       "Name: weight, dtype: int64"
      ]
     },
     "execution_count": 11,
     "metadata": {},
     "output_type": "execute_result"
    }
   ],
   "source": [
    "data['weight'].value_counts()"
   ]
  },
  {
   "cell_type": "code",
   "execution_count": 15,
   "metadata": {},
   "outputs": [],
   "source": [
    "# dictionary to convert weight to numeric\n",
    "dict_weight = {'[0-25)': 12.5, '[25-50)': 37.5, '[50-75)': 62.5, '[75-100)': 87.5, '[100-125)': 112.5, '[125-150)': 137.5, '[150-175)': 162.5, '[175-200)': 187.5, '>200': 225}\n",
    "\n",
    "# dictionary to convert age to numeric\n",
    "dict_age = {'[0-10)': 5, '[10-20)': 15, '[20-30)': 25, '[30-40)': 35, '[40-50)': 45, '[50-60)': 55, '[60-70)': 65, '[70-80)': 75, '[80-90)': 85, '[90-100)': 95}\n",
    "\n",
    "# convert weight and age to numeric\n",
    "data['weight'] = data['weight'].map(dict_weight)\n",
    "data['age'] = data['age'].map(dict_age)"
   ]
  },
  {
   "cell_type": "code",
   "execution_count": 20,
   "metadata": {},
   "outputs": [
    {
     "name": "stderr",
     "output_type": "stream",
     "text": [
      "/Users/dumindu/anaconda3/envs/conda-diabetes/lib/python3.11/site-packages/seaborn/categorical.py:3544: UserWarning: 50.0% of the points cannot be placed; you may want to decrease the size of the markers or use stripplot.\n",
      "  warnings.warn(msg, UserWarning)\n",
      "/Users/dumindu/anaconda3/envs/conda-diabetes/lib/python3.11/site-packages/seaborn/categorical.py:3544: UserWarning: 72.5% of the points cannot be placed; you may want to decrease the size of the markers or use stripplot.\n",
      "  warnings.warn(msg, UserWarning)\n",
      "/Users/dumindu/anaconda3/envs/conda-diabetes/lib/python3.11/site-packages/seaborn/categorical.py:3544: UserWarning: 67.1% of the points cannot be placed; you may want to decrease the size of the markers or use stripplot.\n",
      "  warnings.warn(msg, UserWarning)\n",
      "/Users/dumindu/anaconda3/envs/conda-diabetes/lib/python3.11/site-packages/seaborn/categorical.py:3544: UserWarning: 83.5% of the points cannot be placed; you may want to decrease the size of the markers or use stripplot.\n",
      "  warnings.warn(msg, UserWarning)\n",
      "/Users/dumindu/anaconda3/envs/conda-diabetes/lib/python3.11/site-packages/seaborn/categorical.py:3544: UserWarning: 92.2% of the points cannot be placed; you may want to decrease the size of the markers or use stripplot.\n",
      "  warnings.warn(msg, UserWarning)\n",
      "/Users/dumindu/anaconda3/envs/conda-diabetes/lib/python3.11/site-packages/seaborn/categorical.py:3544: UserWarning: 94.7% of the points cannot be placed; you may want to decrease the size of the markers or use stripplot.\n",
      "  warnings.warn(msg, UserWarning)\n",
      "/Users/dumindu/anaconda3/envs/conda-diabetes/lib/python3.11/site-packages/seaborn/categorical.py:3544: UserWarning: 96.3% of the points cannot be placed; you may want to decrease the size of the markers or use stripplot.\n",
      "  warnings.warn(msg, UserWarning)\n",
      "/Users/dumindu/anaconda3/envs/conda-diabetes/lib/python3.11/site-packages/seaborn/categorical.py:3544: UserWarning: 94.4% of the points cannot be placed; you may want to decrease the size of the markers or use stripplot.\n",
      "  warnings.warn(msg, UserWarning)\n",
      "/Users/dumindu/anaconda3/envs/conda-diabetes/lib/python3.11/site-packages/seaborn/categorical.py:3544: UserWarning: 83.7% of the points cannot be placed; you may want to decrease the size of the markers or use stripplot.\n",
      "  warnings.warn(msg, UserWarning)\n"
     ]
    },
    {
     "data": {
      "text/plain": [
       "<Axes: xlabel='age', ylabel='weight'>"
      ]
     },
     "execution_count": 20,
     "metadata": {},
     "output_type": "execute_result"
    },
    {
     "data": {
      "image/png": "[encoded data removed]",
      "text/plain": [
       "<Figure size 640x480 with 1 Axes>"
      ]
     },
     "metadata": {},
     "output_type": "display_data"
    }
   ],
   "source": [
    "import matplotlib.pyplot as plt\n",
    "import seaborn as sns\n",
    "\n",
    "data_w = data[data['weight'].notna()]\n",
    "\n",
    "sns.swarmplot(y='weight', x='age', data=data_w)"
   ]
  },
  {
   "cell_type": "code",
   "execution_count": null,
   "metadata": {},
   "outputs": [],
   "source": []
  }
 ],
 "metadata": {
  "kernelspec": {
   "display_name": "conda-diabetes",
   "language": "python",
   "name": "python3"
  },
  "language_info": {
   "codemirror_mode": {
    "name": "ipython",
    "version": 3
   },
   "file_extension": ".py",
   "mimetype": "text/x-python",
   "name": "python",
   "nbconvert_exporter": "python",
   "pygments_lexer": "ipython3",
   "version": "3.11.3"
  }
 },
 "nbformat": 4,
 "nbformat_minor": 2
}
